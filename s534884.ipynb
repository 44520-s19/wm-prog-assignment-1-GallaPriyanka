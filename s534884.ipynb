{
 "cells": [
  {
   "cell_type": "markdown",
   "metadata": {},
   "source": [
    "Priyanka Galla"
   ]
  },
  {
   "cell_type": "code",
   "execution_count": 8,
   "metadata": {},
   "outputs": [
    {
     "name": "stdout",
     "output_type": "stream",
     "text": [
      "#      #\n",
      "##    ##\n",
      "###  ###\n",
      "########\n"
     ]
    }
   ],
   "source": [
    "no_of_rows = 4\n",
    "i = 1\n",
    "while i <= no_of_rows:\n",
    "    j = i\n",
    "    while j >= 1:\n",
    "        print(\"#\", end='')\n",
    "        j-=1\n",
    "    k = 2 * (no_of_rows-i)\n",
    "    j = k\n",
    "    while j >= 1:\n",
    "        print(\" \", end='')\n",
    "        j-=1\n",
    "    j = i\n",
    "    while j >= 1:\n",
    "        print(\"#\", end='')\n",
    "        j-=1\n",
    "    print()\n",
    "    i+=1"
   ]
  }
 ],
 "metadata": {
  "kernelspec": {
   "display_name": "Python 3",
   "language": "python",
   "name": "python3"
  },
  "language_info": {
   "codemirror_mode": {
    "name": "ipython",
    "version": 3
   },
   "file_extension": ".py",
   "mimetype": "text/x-python",
   "name": "python",
   "nbconvert_exporter": "python",
   "pygments_lexer": "ipython3",
   "version": "3.7.3"
  }
 },
 "nbformat": 4,
 "nbformat_minor": 2
}
